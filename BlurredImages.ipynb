{
  "nbformat": 4,
  "nbformat_minor": 0,
  "metadata": {
    "colab": {
      "provenance": [],
      "gpuType": "T4"
    },
    "kernelspec": {
      "name": "python3",
      "display_name": "Python 3"
    },
    "language_info": {
      "name": "python"
    },
    "accelerator": "GPU"
  },
  "cells": [
    {
      "cell_type": "code",
      "source": [
        "import torch\n",
        "import torchvision.transforms.functional as F\n",
        "from PIL import Image\n",
        "import os\n",
        "from google.colab import drive\n",
        "import cv2\n",
        "import numpy as np\n",
        "\n",
        "# Mount Google Drive\n",
        "drive.mount('/content/drive')\n",
        "# Set the path to the folder containing images in Google Drive\n",
        "google_drive_folder_path = \"/content/drive/MyDrive/HighResolution\"\n",
        "\n",
        "# Set the path to the folder where you want to save the noisy images in Google Drive\n",
        "output_folder_path = \"/content/drive/MyDrive/Blured\"\n",
        "\n",
        "# Ensure the output folder exists; create it if not\n",
        "if not os.path.exists(output_folder_path):\n",
        "    os.makedirs(output_folder_path)\n",
        "\n",
        "# List all files in the input folder\n",
        "image_files = os.listdir(google_drive_folder_path)\n",
        "\n",
        "# Loop through each image file in the folder\n",
        "for image_file in image_files:\n",
        "    # Load an image\n",
        "    image_path = os.path.join(google_drive_folder_path, image_file)\n",
        "    img = Image.open(image_path)\n",
        "\n",
        "    # Apply Gaussian blur\n",
        "    blurred_image = cv2.GaussianBlur(np.array(img), (9,9), 0)\n",
        "\n",
        "    # Convert the NumPy array to a PIL Image\n",
        "    blurred_image_pil = F.to_pil_image(blurred_image)\n",
        "\n",
        "    # Save the blurred image to the output folder\n",
        "    output_path = os.path.join(output_folder_path, f\"blurred_{image_file}\")\n",
        "    blurred_image_pil.save(output_path)\n",
        "\n",
        "    print(f\"Blurred image saved: {output_path}\")"
      ],
      "metadata": {
        "id": "qrHJo2iDQn_x"
      },
      "execution_count": null,
      "outputs": []
    }
  ]
}