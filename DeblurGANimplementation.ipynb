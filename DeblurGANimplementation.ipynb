{
  "nbformat": 4,
  "nbformat_minor": 0,
  "metadata": {
    "colab": {
      "provenance": [],
      "gpuType": "T4"
    },
    "kernelspec": {
      "name": "python3",
      "display_name": "Python 3"
    },
    "language_info": {
      "name": "python"
    },
    "accelerator": "GPU"
  },
  "cells": [
    {
      "cell_type": "code",
      "execution_count": null,
      "metadata": {
        "id": "Qae1Z-R2T0o3"
      },
      "outputs": [],
      "source": [
        "from google.colab import drive\n",
        "\n",
        "# Mount Google Drive\n",
        "drive.mount('/content/drive')"
      ]
    },
    {
      "cell_type": "code",
      "source": [
        "# Specify the directory path in Google Drive\n",
        "makeReposit = \"/content/drive/MyDrive/DeblurGAN1\"\n",
        "\n",
        "# Create the directory if it doesn't exist\n",
        "!mkdir -p \"$makeReposit/\"\n",
        "\n",
        "# Change the current working directory to the specified path\n",
        "%cd \"$makeReposit/\"\n",
        "\n",
        "# Clone the repository using git\n",
        "!git clone https://github.com/fourson/DeblurGAN-pytorch"
      ],
      "metadata": {
        "id": "hgnXqW6sUqjL"
      },
      "execution_count": null,
      "outputs": []
    },
    {
      "cell_type": "code",
      "source": [
        "%cd /content/drive/MyDrive/DeblurGAN1/DeblurGAN-pytorch"
      ],
      "metadata": {
        "id": "M298Fa6UUwXr"
      },
      "execution_count": null,
      "outputs": []
    },
    {
      "cell_type": "code",
      "source": [
        "# Using WGAN_GP Model\n",
        "!python deblur_image.py --blurred \"/content/drive/MyDrive/blured\" --deblurred \"/content/drive/MyDrive/DeblurWGAN_Results\" --resume \"/content/drive/MyDrive/WGAN_GP/checkpoint-epoch300.pth\""
      ],
      "metadata": {
        "id": "y9-9zO9fU1b0"
      },
      "execution_count": null,
      "outputs": []
    },
    {
      "cell_type": "code",
      "source": [
        "# Using GAN Model\n",
        "!python deblur_image.py --blurred \"/content/drive/MyDrive/blured\" --deblurred \"/content/drive/MyDrive/DeblurGAN_Results\" --resume \"/content/drive/MyDrive/GAN/checkpoint-epoch300.pth\""
      ],
      "metadata": {
        "id": "lPXhGNx7VrUj"
      },
      "execution_count": null,
      "outputs": []
    }
  ]
}